{
 "cells": [
  {
   "cell_type": "code",
   "execution_count": 1,
   "id": "060ef11a-0232-471e-8c09-63b199eee4b2",
   "metadata": {},
   "outputs": [
    {
     "name": "stderr",
     "output_type": "stream",
     "text": [
      "Setting default log level to \"WARN\".\n",
      "To adjust logging level use sc.setLogLevel(newLevel). For SparkR, use setLogLevel(newLevel).\n",
      "24/02/20 09:08:08 WARN NativeCodeLoader: Unable to load native-hadoop library for your platform... using builtin-java classes where applicable\n",
      "----------------------------------------\n",
      "Exception happened during processing of request from ('127.0.0.1', 52128)\n",
      "Traceback (most recent call last):\n",
      "  File \"/usr/lib/python3.8/socketserver.py\", line 316, in _handle_request_noblock\n",
      "    self.process_request(request, client_address)\n",
      "  File \"/usr/lib/python3.8/socketserver.py\", line 347, in process_request\n",
      "    self.finish_request(request, client_address)\n",
      "  File \"/usr/lib/python3.8/socketserver.py\", line 360, in finish_request\n",
      "    self.RequestHandlerClass(request, client_address, self)\n",
      "  File \"/usr/lib/python3.8/socketserver.py\", line 747, in __init__\n",
      "    self.handle()\n",
      "  File \"/home/ubuntu/.local/lib/python3.8/site-packages/pyspark/accumulators.py\", line 295, in handle\n",
      "    poll(accum_updates)\n",
      "  File \"/home/ubuntu/.local/lib/python3.8/site-packages/pyspark/accumulators.py\", line 267, in poll\n",
      "    if self.rfile in r and func():\n",
      "  File \"/home/ubuntu/.local/lib/python3.8/site-packages/pyspark/accumulators.py\", line 271, in accum_updates\n",
      "    num_updates = read_int(self.rfile)\n",
      "  File \"/home/ubuntu/.local/lib/python3.8/site-packages/pyspark/serializers.py\", line 596, in read_int\n",
      "    raise EOFError\n",
      "EOFError\n",
      "----------------------------------------\n"
     ]
    }
   ],
   "source": [
    "from pyspark.sql import SparkSession\n",
    "from pyspark.sql import functions as F\n",
    "\n",
    "spark_session = SparkSession.builder\\\n",
    "        .master(\"spark://192.168.2.250:7077\") \\\n",
    "        .appName(\"PatrickHennig_Lab3_B\")\\\n",
    "        .config(\"spark.dynamicAllocation.enabled\", True)\\\n",
    "        .config(\"spark.dynamicAllocation.shuffleTracking.enabled\",True)\\\n",
    "        .config(\"spark.shuffle.service.enabled\", False)\\\n",
    "        .config(\"spark.dynamicAllocation.executorIdleTimeout\",\"30s\")\\\n",
    "        .config(\"spark.executor.cores\", 2)\\\n",
    "        .config(\"spark.driver.port\",9999)\\\n",
    "        .config(\"spark.blockManager.port\",10005)\\\n",
    "        .getOrCreate()\n",
    "\n",
    "spark_session.sparkContext.setLogLevel(\"WARN\")"
   ]
  },
  {
   "cell_type": "markdown",
   "id": "d89b0e92-2b6b-48bd-ade1-155bf387e5e6",
   "metadata": {},
   "source": [
    "B.1 Load the CSV file from HDFS, and call show() to verify the data is loaded correctly.\n",
    "\n",
    "B.2 Print the schema for the DataFrame.\n",
    "\n",
    "B.3 Count the number of rows in the CSV file.\n",
    "\n",
    "B.4 Count the number of partitions in the underlying RDD.\n",
    "\n",
    "B.5 Drop the columns VIN, Latitude and Longitude.\n",
    "\n",
    "B.6 Find the maximum fine amount. How many fines have this amount? You need to convert the ‘fine amount’ column to a float to do this correctly.\n",
    "\n",
    "B.7 Show the top 20 most frequent vehicle makes, and their frequencies.\n",
    "\n",
    "B.8 Let’s expand some abbreviations in the color column. Create a User Defined Function to\n",
    "create a new column, ‘color long’, mapping the original colors to their corresponding values\n",
    "in the dictionary below. If there is no key matching the original color, use the original color.\n",
    "```\n",
    "COLORS = {\n",
    "'AL':'Aluminum', 'AM':'Amber', 'BG':'Beige', 'BK':'Black',\n",
    "'BL':'Blue', 'BN':'Brown', 'BR':'Brown', 'BZ':'Bronze',\n",
    "'CH':'Charcoal', 'DK':'Dark', 'GD':'Gold', 'GO':'Gold',\n",
    "'GN':'Green', 'GY':'Gray', 'GT':'Granite', 'IV':'Ivory',\n",
    "'LT':'Light', 'OL':'Olive', 'OR':'Orange', 'MR':'Maroon',\n",
    "'PK':'Pink', 'RD':'Red', 'RE':'Red', 'SI':'Silver', 'SL':'Silver',\n",
    "'SM':'Smoke', 'TN':'Tan', 'VT':'Violet', 'WT':'White', 'WH':'White',\n",
    "'YL':'Yellow', 'YE':'Yellow', 'UN':'Unknown'\n",
    "}\n",
    "```\n",
    "\n",
    "B.9 Using this new column, what’s the most frequent colour value for Toyotas (TOYT)?\n"
   ]
  },
  {
   "cell_type": "code",
   "execution_count": 15,
   "id": "7c8f28d2-4c86-4982-b984-a62ebd920a58",
   "metadata": {},
   "outputs": [
    {
     "name": "stdout",
     "output_type": "stream",
     "text": [
      "root\n",
      " |-- Ticket number: string (nullable = true)\n",
      " |-- Issue Date: string (nullable = true)\n",
      " |-- Issue time: string (nullable = true)\n",
      " |-- Meter Id: string (nullable = true)\n",
      " |-- Marked Time: string (nullable = true)\n",
      " |-- RP State Plate: string (nullable = true)\n",
      " |-- Plate Expiry Date: string (nullable = true)\n",
      " |-- VIN: string (nullable = true)\n",
      " |-- Make: string (nullable = true)\n",
      " |-- Body Style: string (nullable = true)\n",
      " |-- Color: string (nullable = true)\n",
      " |-- Location: string (nullable = true)\n",
      " |-- Route: string (nullable = true)\n",
      " |-- Agency: string (nullable = true)\n",
      " |-- Violation code: string (nullable = true)\n",
      " |-- Violation Description: string (nullable = true)\n",
      " |-- Fine amount: string (nullable = true)\n",
      " |-- Latitude: string (nullable = true)\n",
      " |-- Longitude: string (nullable = true)\n",
      " |-- Agency Description: string (nullable = true)\n",
      " |-- Color Description: string (nullable = true)\n",
      " |-- Body Style Description: string (nullable = true)\n",
      "\n"
     ]
    },
    {
     "name": "stderr",
     "output_type": "stream",
     "text": [
      "                                                                                \r"
     ]
    },
    {
     "name": "stdout",
     "output_type": "stream",
     "text": [
      "number of rows in dataframe: 13077724\n",
      "number of partitions in dataframe: 16\n"
     ]
    },
    {
     "name": "stderr",
     "output_type": "stream",
     "text": [
      "                                                                                \r"
     ]
    },
    {
     "name": "stdout",
     "output_type": "stream",
     "text": [
      "max fine amount: 1100.0\n"
     ]
    },
    {
     "name": "stderr",
     "output_type": "stream",
     "text": [
      "                                                                                \r"
     ]
    },
    {
     "name": "stdout",
     "output_type": "stream",
     "text": [
      "num fines issued with max amount: 626\n"
     ]
    },
    {
     "name": "stderr",
     "output_type": "stream",
     "text": [
      "                                                                                \r"
     ]
    },
    {
     "name": "stdout",
     "output_type": "stream",
     "text": [
      "+----+--------------------+\n",
      "|Make|           frequency|\n",
      "+----+--------------------+\n",
      "|TOYT|  0.1644604214005434|\n",
      "|HOND| 0.11316923342318587|\n",
      "|FORD|  0.0853539193823023|\n",
      "|NISS| 0.07227045011807864|\n",
      "|CHEV|  0.0682592781435057|\n",
      "| BMW| 0.04611597553213388|\n",
      "|MERZ| 0.04154377321313709|\n",
      "|VOLK| 0.03303556490410717|\n",
      "|HYUN|0.030962344823915845|\n",
      "|DODG|0.029950624435872788|\n",
      "|LEXS|0.028171568691922232|\n",
      "| KIA| 0.02509266903017681|\n",
      "|JEEP|0.024186165727308515|\n",
      "|AUDI|0.019529009787941694|\n",
      "|MAZD| 0.01853105326278487|\n",
      "|OTHR| 0.01571726089340928|\n",
      "| GMC|0.014137704695404185|\n",
      "|INFI|0.013329154216742913|\n",
      "|CHRY| 0.01223056856070674|\n",
      "|SUBA|0.011824687537372711|\n",
      "+----+--------------------+\n",
      "\n"
     ]
    },
    {
     "name": "stderr",
     "output_type": "stream",
     "text": [
      "[Stage 166:================================================>      (14 + 2) / 16]\r"
     ]
    },
    {
     "name": "stdout",
     "output_type": "stream",
     "text": [
      "+----------+------+\n",
      "|color long| count|\n",
      "+----------+------+\n",
      "|      Gray|489697|\n",
      "+----------+------+\n",
      "\n"
     ]
    },
    {
     "name": "stderr",
     "output_type": "stream",
     "text": [
      "                                                                                \r"
     ]
    }
   ],
   "source": [
    "# B.1 - load file and .show\n",
    "laparkcit=spark_session.read.format(\"csv\").option(\"header\", \"true\").load(\"hdfs://192.168.2.250:9000/parking-citations.csv\")\n",
    "laparkcit.show\n",
    "\n",
    "# B.2 - print schema\n",
    "laparkcit.printSchema()\n",
    "\n",
    "# B.3 - count rows in csv\n",
    "num_rows=laparkcit.count()\n",
    "print(\"number of rows in dataframe:\",num_rows)\n",
    "\n",
    "# B.4 - count number of partitions in rdd\n",
    "print(\"number of partitions in dataframe:\",laparkcit.rdd.getNumPartitions())\n",
    "\n",
    "# B.5 - drop columns Vin, Latitude, Longitude\n",
    "laparkcit.drop(\"VIN\",\"Latitude\",\"Longitude\")\n",
    "\n",
    "# B.6 - convert fine column from str to float, get max fine amount, count fines with max amount\n",
    "colname=\"Fine amount\"\n",
    "laparkcit = laparkcit.withColumn(colname, F.col(colname).cast(\"float\"))\n",
    "max_fine_amount=laparkcit.agg(F.max(F.col(colname))).collect()[0][f\"max({colname})\"]\n",
    "print(\"max fine amount:\",max_fine_amount)\n",
    "fines_with_max_amount=laparkcit.filter(F.col(colname)==max_fine_amount)\n",
    "print(\"num fines issued with max amount:\",fines_with_max_amount.count())\n",
    "\n",
    "# B.7 - calc car make frequencies, show top 20 makes (incl. freq)\n",
    "count_colname=\"count\"\n",
    "freq_colname=\"frequency\"\n",
    "laparkcit \\\n",
    "    .groupBy(\"Make\") \\\n",
    "    .agg(F.count(\"*\").alias(count_colname)) \\\n",
    "    .withColumn(freq_colname,F.col(count_colname)/num_rows) \\\n",
    "    .orderBy(F.col(count_colname).desc()) \\\n",
    "    .drop(count_colname) \\\n",
    "    .limit(20) \\\n",
    "    .show()\n",
    "\n",
    "# B.8 - expand car color names using udf\n",
    "def expand_colorname(name_short:str)->str:\n",
    "    COLORS = {\n",
    "        'AL':'Aluminum', 'AM':'Amber', 'BG':'Beige', 'BK':'Black',\n",
    "        'BL':'Blue', 'BN':'Brown', 'BR':'Brown', 'BZ':'Bronze',\n",
    "        'CH':'Charcoal', 'DK':'Dark', 'GD':'Gold', 'GO':'Gold',\n",
    "        'GN':'Green', 'GY':'Gray', 'GT':'Granite', 'IV':'Ivory',\n",
    "        'LT':'Light', 'OL':'Olive', 'OR':'Orange', 'MR':'Maroon',\n",
    "        'PK':'Pink', 'RD':'Red', 'RE':'Red', 'SI':'Silver', 'SL':'Silver',\n",
    "        'SM':'Smoke', 'TN':'Tan', 'VT':'Violet', 'WT':'White', 'WH':'White',\n",
    "        'YL':'Yellow', 'YE':'Yellow', 'UN':'Unknown'\n",
    "    }\n",
    "    return COLORS.get(name_short,name_short)\n",
    "    \n",
    "expand_colorname_udf=F.udf(expand_colorname,\"string\")\n",
    "\n",
    "color_long_colname=\"color long\"\n",
    "laparkcit=laparkcit.withColumn(color_long_colname,expand_colorname_udf(\"color\"))\n",
    "\n",
    "# B.9 - get most frequent color of Make==TOYT cars\n",
    "color_count_colname=\"count\"\n",
    "laparkcit \\\n",
    "    .filter(F.col(\"Make\")==\"TOYT\") \\\n",
    "    .groupBy(color_long_colname) \\\n",
    "    .agg(F.count(\"*\").alias(color_count_colname)) \\\n",
    "    .orderBy(F.col(color_count_colname).desc()) \\\n",
    "    .limit(1) \\\n",
    "    .show()"
   ]
  },
  {
   "cell_type": "code",
   "execution_count": null,
   "id": "7ea75062-ae37-48c0-a335-469e6f3c747d",
   "metadata": {},
   "outputs": [],
   "source": []
  }
 ],
 "metadata": {
  "kernelspec": {
   "display_name": "Python 3 (ipykernel)",
   "language": "python",
   "name": "python3"
  },
  "language_info": {
   "codemirror_mode": {
    "name": "ipython",
    "version": 3
   },
   "file_extension": ".py",
   "mimetype": "text/x-python",
   "name": "python",
   "nbconvert_exporter": "python",
   "pygments_lexer": "ipython3",
   "version": "3.8.10"
  }
 },
 "nbformat": 4,
 "nbformat_minor": 5
}
